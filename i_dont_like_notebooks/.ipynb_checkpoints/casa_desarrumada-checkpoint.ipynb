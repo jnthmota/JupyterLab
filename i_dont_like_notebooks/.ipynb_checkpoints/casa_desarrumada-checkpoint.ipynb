{
 "cells": [
  {
   "cell_type": "code",
   "execution_count": 3,
   "id": "fiscal-establishment",
   "metadata": {},
   "outputs": [],
   "source": [
    "def add_two(num):\n",
    "    return num+2"
   ]
  },
  {
   "cell_type": "code",
   "execution_count": 2,
   "id": "administrative-prophet",
   "metadata": {},
   "outputs": [],
   "source": [
    "y = add_two(2)"
   ]
  },
  {
   "cell_type": "code",
   "execution_count": 4,
   "id": "downtown-volleyball",
   "metadata": {},
   "outputs": [
    {
     "data": {
      "text/plain": [
       "False"
      ]
     },
     "execution_count": 4,
     "metadata": {},
     "output_type": "execute_result"
    }
   ],
   "source": [
    "y == 4"
   ]
  },
  {
   "cell_type": "code",
   "execution_count": 5,
   "id": "casual-pipeline",
   "metadata": {},
   "outputs": [
    {
     "name": "stdout",
     "output_type": "stream",
     "text": [
      "5\n"
     ]
    }
   ],
   "source": [
    "print(y)"
   ]
  }
 ],
 "metadata": {
  "kernelspec": {
   "display_name": "Python 3",
   "language": "python",
   "name": "python3"
  },
  "language_info": {
   "codemirror_mode": {
    "name": "ipython",
    "version": 3
   },
   "file_extension": ".py",
   "mimetype": "text/x-python",
   "name": "python",
   "nbconvert_exporter": "python",
   "pygments_lexer": "ipython3",
   "version": "3.8.8"
  }
 },
 "nbformat": 4,
 "nbformat_minor": 5
}
