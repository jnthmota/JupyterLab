{
 "cells": [
  {
   "cell_type": "code",
   "execution_count": 1,
   "id": "spread-python",
   "metadata": {},
   "outputs": [],
   "source": [
    "def add_two(num):\n",
    "    return num+2"
   ]
  },
  {
   "cell_type": "code",
   "execution_count": 2,
   "id": "necessary-doubt",
   "metadata": {},
   "outputs": [],
   "source": [
    "y = add_two(2)"
   ]
  },
  {
   "cell_type": "code",
   "execution_count": 3,
   "id": "determined-posting",
   "metadata": {},
   "outputs": [
    {
     "data": {
      "text/plain": [
       "True"
      ]
     },
     "execution_count": 3,
     "metadata": {},
     "output_type": "execute_result"
    }
   ],
   "source": [
    "y == 4"
   ]
  },
  {
   "cell_type": "code",
   "execution_count": 4,
   "id": "based-protein",
   "metadata": {},
   "outputs": [
    {
     "name": "stdout",
     "output_type": "stream",
     "text": [
      "4\n"
     ]
    }
   ],
   "source": [
    "print(y)"
   ]
  },
  {
   "cell_type": "markdown",
   "id": "radio-introduction",
   "metadata": {},
   "source": [
    "# Markdown"
   ]
  },
  {
   "cell_type": "code",
   "execution_count": null,
   "id": "developing-porter",
   "metadata": {},
   "outputs": [],
   "source": []
  }
 ],
 "metadata": {
  "kernelspec": {
   "display_name": "Python 3",
   "language": "python",
   "name": "python3"
  },
  "language_info": {
   "codemirror_mode": {
    "name": "ipython",
    "version": 3
   },
   "file_extension": ".py",
   "mimetype": "text/x-python",
   "name": "python",
   "nbconvert_exporter": "python",
   "pygments_lexer": "ipython3",
   "version": "3.9.2"
  }
 },
 "nbformat": 4,
 "nbformat_minor": 5
}
