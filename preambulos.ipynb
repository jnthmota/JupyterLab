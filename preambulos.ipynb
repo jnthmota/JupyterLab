{
 "cells": [
  {
   "cell_type": "markdown",
   "id": "champion-gilbert",
   "metadata": {},
   "source": [
    "# Listas em Python"
   ]
  },
  {
   "cell_type": "code",
   "execution_count": 1,
   "id": "loved-hughes",
   "metadata": {},
   "outputs": [
    {
     "name": "stdout",
     "output_type": "stream",
     "text": [
      "[0, 1, 2, 3, 4, 5, 6, 7, 8, 9]\n"
     ]
    }
   ],
   "source": [
    "lst_1 = [1, 2, 3]\n",
    "lst_2 = [1, 2, 3.0]\n",
    "lst_3 = [1, 2, '3']\n",
    "lst_chars = ['a', 'b', 'c']\n",
    "\n",
    "lst_n = list(range(10))\n",
    "lst_comp = [i for i in range(10)]\n",
    "\n",
    "assert lst_n == lst_comp\n",
    "\n",
    "print(lst_n)"
   ]
  },
  {
   "cell_type": "code",
   "execution_count": 2,
   "id": "everyday-belly",
   "metadata": {},
   "outputs": [
    {
     "name": "stdout",
     "output_type": "stream",
     "text": [
      "1\n",
      "3\n",
      "list index out of range\n",
      "3\n",
      "1\n",
      "list index out of range\n"
     ]
    }
   ],
   "source": [
    "## discutir acesso aos elementos\n",
    "print(lst_1[0])\n",
    "print(lst_1[2])\n",
    "\n",
    "try:\n",
    "    lst_1[3]\n",
    "except Exception as e:\n",
    "    print(e)\n",
    "\n",
    "print(lst_1[-1])\n",
    "print(lst_1[-3])\n",
    "try:\n",
    "    lst_1[-4]\n",
    "except Exception as e:\n",
    "    print(e)"
   ]
  },
  {
   "cell_type": "code",
   "execution_count": 3,
   "id": "antique-dodge",
   "metadata": {},
   "outputs": [
    {
     "name": "stdout",
     "output_type": "stream",
     "text": [
      "[3, 4, 5, 6, 7, 8]\n",
      "[3, 4, 5, 6, 7, 8, 9]\n",
      "[0, 1, 2, 3, 4, 5, 6, 7, 8]\n",
      "[3, 5, 7]\n",
      "[0, 2, 4, 6, 8]\n"
     ]
    }
   ],
   "source": [
    "print(lst_n[3:9])\n",
    "print(lst_n[3:])\n",
    "print(lst_n[:9])\n",
    "print(lst_n[3:9:2])\n",
    "print(lst_n[::2])"
   ]
  },
  {
   "cell_type": "markdown",
   "id": "premium-turner",
   "metadata": {},
   "source": [
    "-------------------------\n",
    "Notem a sintaxe de acesso:\n",
    "\n",
    "`lst_n` é o nome da variável\n",
    "\n",
    "Ele é seguido de alguma \"instrução entre colchetes\"\n",
    "\n",
    "`var_name [ código ]`"
   ]
  },
  {
   "cell_type": "code",
   "execution_count": 4,
   "id": "double-myanmar",
   "metadata": {},
   "outputs": [
    {
     "name": "stdout",
     "output_type": "stream",
     "text": [
      "b\n"
     ]
    }
   ],
   "source": [
    "# exemplo exotérico\n",
    "\n",
    "print(lst_chars[5 > 3])"
   ]
  },
  {
   "cell_type": "code",
   "execution_count": 5,
   "id": "killing-oriental",
   "metadata": {},
   "outputs": [],
   "source": [
    "## discutir types\n",
    "def print_lst_types(lst):\n",
    "    \n",
    "    for element in lst:\n",
    "        print(type(element))\n",
    "\n",
    "def print_lst_elements(lst):\n",
    "    \n",
    "    for element in lst:\n",
    "        print(element)"
   ]
  },
  {
   "cell_type": "code",
   "execution_count": 6,
   "id": "otherwise-bench",
   "metadata": {},
   "outputs": [
    {
     "name": "stdout",
     "output_type": "stream",
     "text": [
      "<class 'int'>\n",
      "<class 'int'>\n",
      "<class 'float'>\n"
     ]
    }
   ],
   "source": [
    "print_lst_types(lst_2)"
   ]
  },
  {
   "cell_type": "code",
   "execution_count": 7,
   "id": "intimate-decision",
   "metadata": {},
   "outputs": [
    {
     "name": "stdout",
     "output_type": "stream",
     "text": [
      "<class 'int'>\n",
      "<class 'int'>\n",
      "<class 'str'>\n"
     ]
    }
   ],
   "source": [
    "print_lst_types(lst_3)"
   ]
  },
  {
   "cell_type": "code",
   "execution_count": 8,
   "id": "spoken-preview",
   "metadata": {},
   "outputs": [
    {
     "name": "stdout",
     "output_type": "stream",
     "text": [
      "1\n",
      "2\n",
      "3\n"
     ]
    }
   ],
   "source": [
    "print_lst_elements(lst_3)"
   ]
  },
  {
   "cell_type": "markdown",
   "id": "liked-muscle",
   "metadata": {},
   "source": [
    "# Tuplas"
   ]
  },
  {
   "cell_type": "code",
   "execution_count": 9,
   "id": "quality-terrain",
   "metadata": {},
   "outputs": [],
   "source": [
    "tup_1 = (1,2,3)\n",
    "tup_2 = (1,2,'3')"
   ]
  },
  {
   "cell_type": "code",
   "execution_count": 10,
   "id": "affecting-ebony",
   "metadata": {},
   "outputs": [
    {
     "name": "stdout",
     "output_type": "stream",
     "text": [
      "1\n"
     ]
    }
   ],
   "source": [
    "print(tup_1[0])"
   ]
  },
  {
   "cell_type": "code",
   "execution_count": 11,
   "id": "miniature-injection",
   "metadata": {},
   "outputs": [
    {
     "name": "stdout",
     "output_type": "stream",
     "text": [
      "[25, 2, 3]\n"
     ]
    }
   ],
   "source": [
    "lst_1[0] = 25\n",
    "print(lst_1)"
   ]
  },
  {
   "cell_type": "code",
   "execution_count": 12,
   "id": "variable-fifteen",
   "metadata": {},
   "outputs": [
    {
     "ename": "TypeError",
     "evalue": "'tuple' object does not support item assignment",
     "output_type": "error",
     "traceback": [
      "\u001b[1;31m---------------------------------------------------------------------------\u001b[0m",
      "\u001b[1;31mTypeError\u001b[0m                                 Traceback (most recent call last)",
      "\u001b[1;32m<ipython-input-12-15032d9990e2>\u001b[0m in \u001b[0;36m<module>\u001b[1;34m\u001b[0m\n\u001b[1;32m----> 1\u001b[1;33m \u001b[0mtup_1\u001b[0m\u001b[1;33m[\u001b[0m\u001b[1;36m0\u001b[0m\u001b[1;33m]\u001b[0m \u001b[1;33m=\u001b[0m \u001b[1;36m25\u001b[0m\u001b[1;33m\u001b[0m\u001b[1;33m\u001b[0m\u001b[0m\n\u001b[0m",
      "\u001b[1;31mTypeError\u001b[0m: 'tuple' object does not support item assignment"
     ]
    }
   ],
   "source": [
    "tup_1[0] = 25"
   ]
  },
  {
   "cell_type": "code",
   "execution_count": 13,
   "id": "formal-nicholas",
   "metadata": {},
   "outputs": [
    {
     "name": "stdout",
     "output_type": "stream",
     "text": [
      "t\n"
     ]
    }
   ],
   "source": [
    "s = \"parangaricotirimirruaru\"\n",
    "\n",
    "print(s[11])"
   ]
  },
  {
   "cell_type": "code",
   "execution_count": 14,
   "id": "trained-norman",
   "metadata": {},
   "outputs": [
    {
     "ename": "TypeError",
     "evalue": "'str' object does not support item assignment",
     "output_type": "error",
     "traceback": [
      "\u001b[1;31m---------------------------------------------------------------------------\u001b[0m",
      "\u001b[1;31mTypeError\u001b[0m                                 Traceback (most recent call last)",
      "\u001b[1;32m<ipython-input-14-545f2045dba7>\u001b[0m in \u001b[0;36m<module>\u001b[1;34m\u001b[0m\n\u001b[1;32m----> 1\u001b[1;33m \u001b[0ms\u001b[0m\u001b[1;33m[\u001b[0m\u001b[1;36m11\u001b[0m\u001b[1;33m]\u001b[0m \u001b[1;33m=\u001b[0m \u001b[1;34m'x'\u001b[0m\u001b[1;33m\u001b[0m\u001b[1;33m\u001b[0m\u001b[0m\n\u001b[0m",
      "\u001b[1;31mTypeError\u001b[0m: 'str' object does not support item assignment"
     ]
    }
   ],
   "source": [
    "s[11] = 'x'"
   ]
  },
  {
   "cell_type": "markdown",
   "id": "closed-iraqi",
   "metadata": {},
   "source": [
    "# Dicionários em Python"
   ]
  },
  {
   "cell_type": "code",
   "execution_count": 15,
   "id": "secure-shannon",
   "metadata": {},
   "outputs": [],
   "source": [
    "dict_str_int = {'um': 1, 'dois': 2, 'três': 1}\n",
    "dict_int_str = {1: 'um', 2: 'dois', 3: 'um'}\n",
    "\n",
    "dict_compr = {str(i): i for i in range(10)}"
   ]
  },
  {
   "cell_type": "code",
   "execution_count": 16,
   "id": "entertaining-version",
   "metadata": {},
   "outputs": [],
   "source": [
    "dict_doidao = {\n",
    "    True: False,\n",
    "    (1,2,3): 4,\n",
    "    (0,False, None): [],\n",
    "    \"string\": \"string\",\n",
    "    3.3: 6.6\n",
    "}"
   ]
  },
  {
   "cell_type": "code",
   "execution_count": 17,
   "id": "cellular-membrane",
   "metadata": {},
   "outputs": [
    {
     "name": "stdout",
     "output_type": "stream",
     "text": [
      "dois\n",
      "dois\n"
     ]
    }
   ],
   "source": [
    "print(dict_int_str[5-3])\n",
    "print(dict_int_str[10//5])"
   ]
  },
  {
   "cell_type": "code",
   "execution_count": 18,
   "id": "automotive-kansas",
   "metadata": {},
   "outputs": [
    {
     "data": {
      "text/plain": [
       "False"
      ]
     },
     "execution_count": 18,
     "metadata": {},
     "output_type": "execute_result"
    }
   ],
   "source": [
    "dict_doidao[5 == 5]"
   ]
  },
  {
   "cell_type": "code",
   "execution_count": 19,
   "id": "enormous-morocco",
   "metadata": {},
   "outputs": [
    {
     "data": {
      "text/plain": [
       "25"
      ]
     },
     "execution_count": 19,
     "metadata": {},
     "output_type": "execute_result"
    }
   ],
   "source": [
    "dict_doidao['lista'] = lst_1\n",
    "\n",
    "dict_doidao['lista'][0] # o mesmo que (dict_doidao['lista'])[0] E que lst_1[0]"
   ]
  },
  {
   "cell_type": "code",
   "execution_count": 20,
   "id": "greenhouse-shaft",
   "metadata": {},
   "outputs": [
    {
     "data": {
      "text/plain": [
       "['__add__',\n",
       " '__class__',\n",
       " '__class_getitem__',\n",
       " '__contains__',\n",
       " '__delattr__',\n",
       " '__delitem__',\n",
       " '__dir__',\n",
       " '__doc__',\n",
       " '__eq__',\n",
       " '__format__',\n",
       " '__ge__',\n",
       " '__getattribute__',\n",
       " '__getitem__',\n",
       " '__gt__',\n",
       " '__hash__',\n",
       " '__iadd__',\n",
       " '__imul__',\n",
       " '__init__',\n",
       " '__init_subclass__',\n",
       " '__iter__',\n",
       " '__le__',\n",
       " '__len__',\n",
       " '__lt__',\n",
       " '__mul__',\n",
       " '__ne__',\n",
       " '__new__',\n",
       " '__reduce__',\n",
       " '__reduce_ex__',\n",
       " '__repr__',\n",
       " '__reversed__',\n",
       " '__rmul__',\n",
       " '__setattr__',\n",
       " '__setitem__',\n",
       " '__sizeof__',\n",
       " '__str__',\n",
       " '__subclasshook__',\n",
       " 'append',\n",
       " 'clear',\n",
       " 'copy',\n",
       " 'count',\n",
       " 'extend',\n",
       " 'index',\n",
       " 'insert',\n",
       " 'pop',\n",
       " 'remove',\n",
       " 'reverse',\n",
       " 'sort']"
      ]
     },
     "execution_count": 20,
     "metadata": {},
     "output_type": "execute_result"
    }
   ],
   "source": [
    "dir(list)"
   ]
  },
  {
   "cell_type": "code",
   "execution_count": 21,
   "id": "southwest-wrestling",
   "metadata": {},
   "outputs": [
    {
     "name": "stdout",
     "output_type": "stream",
     "text": [
      "count\n",
      "index\n"
     ]
    }
   ],
   "source": [
    "def dir_condensed(x):\n",
    "    for string in dir(x):\n",
    "        if not string.startswith(\"__\"):\n",
    "            print(string)\n",
    "\n",
    "dir_condensed(tup_1)"
   ]
  },
  {
   "cell_type": "code",
   "execution_count": 22,
   "id": "directed-release",
   "metadata": {},
   "outputs": [
    {
     "name": "stdout",
     "output_type": "stream",
     "text": [
      "Help on built-in function append:\n",
      "\n",
      "append(object, /) method of builtins.list instance\n",
      "    Append object to the end of the list.\n",
      "\n"
     ]
    }
   ],
   "source": [
    "help(lst_1.append)"
   ]
  },
  {
   "cell_type": "markdown",
   "id": "downtown-drive",
   "metadata": {},
   "source": [
    "# Exercício"
   ]
  },
  {
   "cell_type": "code",
   "execution_count": 23,
   "id": "victorian-current",
   "metadata": {},
   "outputs": [],
   "source": [
    "def funcao(lst, num):\n",
    "    \"\"\"Função recebe uma lista e um número e devolve uma dupla de listas...\"\"\"\n",
    "    \n",
    "    assert type(lst) == type([]), \"first param must be a list\"\n",
    "    \n",
    "    out = {True: [], False: []}\n",
    "    for element in lst:\n",
    "        out[ element <= num ].append(element)\n",
    "        \n",
    "    return out[True], out[False]"
   ]
  },
  {
   "cell_type": "markdown",
   "id": "thousand-disclosure",
   "metadata": {},
   "source": [
    " - **0**. Dada a função `funcao` acima, escreva uma docstring descritiva. Aproveite pra renomear e dar um nome descritivo.\n",
    " - **Aleph**. Utilize a função, ou apenas se inspire nela, e escreva uma função `quick_sort`, que ordena uma lista numérica.\n",
    " - **A**. Critique a função `funcao`. O que ela tem de bom? O que ela tem de ruim?"
   ]
  }
 ],
 "metadata": {
  "kernelspec": {
   "display_name": "Python 3",
   "language": "python",
   "name": "python3"
  },
  "language_info": {
   "codemirror_mode": {
    "name": "ipython",
    "version": 3
   },
   "file_extension": ".py",
   "mimetype": "text/x-python",
   "name": "python",
   "nbconvert_exporter": "python",
   "pygments_lexer": "ipython3",
   "version": "3.9.2"
  }
 },
 "nbformat": 4,
 "nbformat_minor": 5
}
