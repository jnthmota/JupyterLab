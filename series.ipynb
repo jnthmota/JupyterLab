{
 "cells": [
  {
   "cell_type": "code",
   "execution_count": 1,
   "id": "complicated-correction",
   "metadata": {},
   "outputs": [],
   "source": [
    "# lista\n",
    "my_var_list = ['a', 1, 'outra string', 6.28]\n",
    "\n",
    "# dicionário\n",
    "my_var_dict = {\n",
    "    0: 'a',\n",
    "    1: 1,\n",
    "    2: 'outra string',\n",
    "    3: 6.28,\n",
    "}\n",
    "\n",
    "# uma variável pra cada valor\n",
    "my_var_0 = 'a'\n",
    "my_var_1 = 1\n",
    "my_var_2 = 'outra string'\n",
    "my_var_3 = 6.28"
   ]
  },
  {
   "cell_type": "markdown",
   "id": "bound-vinyl",
   "metadata": {},
   "source": [
    "Essas 3 abordagens armazenam exatamente as mesmas informações na memória do computador.\n",
    "E todas elas permitem o acesso programático dos valores.\n",
    "Porém, as possibilidades e características são diferentes.\n",
    "\n",
    "No caso de `my_var_list` os valores só podem ser acessados através de índices inteiros. Porém isso garante que os dados estão ordenados.\n",
    "\n",
    "No caso de `my_var_dict` os valores podem ser acessados por chaves, permitindo dar \"nomes\" a cada valor. Porém esses valores são intrinsecamente não ordenados.\n",
    "\n",
    "No caso das variáveis separadas, podemos trabalhar com cada valor separadamente, o que é mais complicado com as estruturas. Porém, precisamos replicar código ou acabar criando uma estrutura para poder fazer uma mesma operação com todos esses valores. Inclusive..."
   ]
  },
  {
   "cell_type": "code",
   "execution_count": 2,
   "id": "featured-offset",
   "metadata": {},
   "outputs": [],
   "source": [
    "my_var_list_inception = [\n",
    "    my_var_0,\n",
    "    my_var_1,\n",
    "    my_var_2,\n",
    "    my_var_3\n",
    "]\n",
    "\n",
    "assert my_var_list_inception == my_var_list"
   ]
  },
  {
   "cell_type": "code",
   "execution_count": 3,
   "id": "elect-garden",
   "metadata": {},
   "outputs": [],
   "source": [
    "my_var_dict_inception = {\n",
    "    0: my_var_0,\n",
    "    1: my_var_1,\n",
    "    2: my_var_2,\n",
    "    3: my_var_3\n",
    "}\n",
    "\n",
    "assert my_var_dict_inception == my_var_dict"
   ]
  },
  {
   "cell_type": "code",
   "execution_count": 4,
   "id": "worth-latino",
   "metadata": {},
   "outputs": [],
   "source": [
    "# ou ainda...\n",
    "my_var_dict_compr = {index: value for index, value in enumerate(my_var_list)}\n",
    "assert my_var_dict_compr == my_var_dict\n",
    "\n",
    "my_var_list_compr = [value for value in my_var_dict.values()]"
   ]
  },
  {
   "cell_type": "markdown",
   "id": "regulation-armstrong",
   "metadata": {},
   "source": [
    "Exercício!\n",
    "\n",
    "`my_var_dict_compr` é garantidamente igual a `my_var_dict`, prometi isso com o assert da célula acima! Explique como isso é verdade (recomendo escrever).\n",
    "    dica: não sabe o que faz enumerate? `help(enumerate)`, tente bater cabeça com a documentação um pouco, mas não demais. Travando, pesquise na internet.\n",
    "\n",
    "`my_var_list_compr` tem um porém! Que porém é esse?\n",
    "    dica: gostaríamos de poder afirmar, com certeza absoluta, que `my_var_list_compr` é idêntica a `my_var_list`. Ou seja, que podemos escrever `assert my_var_list_inception == my_var_list` assim como foi feito para o dicionário.\n",
    "\n",
    "Pontos extras...\n",
    "Tendo achado o porém da `my_var_list_compr`, escreva uma versão onde é possível colocar o `assert`.\n",
    "    dica1: use `dir()` e `help()` pra descobrir um método útil\n",
    "    dica2: Google não vai ajudar diretamente aqui, mas indiretamente pode com a pergunta certa\n",
    "    dica3: se tem dificuldade com a sintaxe de comprehension, considere um loop"
   ]
  },
  {
   "cell_type": "markdown",
   "id": "liquid-letter",
   "metadata": {},
   "source": [
    "____________________________________________________\n",
    "Voltando..."
   ]
  },
  {
   "cell_type": "code",
   "execution_count": 5,
   "id": "fatty-virgin",
   "metadata": {},
   "outputs": [],
   "source": [
    "proto_matriz = [\n",
    "    [1,2,3],\n",
    "    [4,5,6],\n",
    "    [7,8,9]\n",
    "]"
   ]
  },
  {
   "cell_type": "code",
   "execution_count": 6,
   "id": "lovely-dollar",
   "metadata": {},
   "outputs": [
    {
     "data": {
      "text/plain": [
       "2"
      ]
     },
     "execution_count": 6,
     "metadata": {},
     "output_type": "execute_result"
    }
   ],
   "source": [
    "proto_matriz[0][1]"
   ]
  },
  {
   "cell_type": "code",
   "execution_count": 7,
   "id": "indoor-resolution",
   "metadata": {},
   "outputs": [
    {
     "data": {
      "text/plain": [
       "[1, 2, 3]"
      ]
     },
     "execution_count": 7,
     "metadata": {},
     "output_type": "execute_result"
    }
   ],
   "source": [
    "proto_matriz[0]"
   ]
  },
  {
   "cell_type": "markdown",
   "id": "fitted-nebraska",
   "metadata": {},
   "source": [
    "-----------------------------\n",
    "Pandas vai fornecer uma interface (classe) onde será possível angariar vantagens de listas (estruturas ordenadas), e de dicionários (indexação arbitrária, e outras).\n",
    "Essa estrutura se chama `pandas.Series`.\n",
    "\n",
    "E, assim como listas fornecem uma abstração para matrizes através de listas de listas, Pandas trará uma abstração de tabela através de `Series` de `Series`.\n",
    "A analogia não é perfeita, e as diferenças forçam a biblioteca a oferecem uma outra interface chamada `pandas.DataFrame`."
   ]
  },
  {
   "cell_type": "markdown",
   "id": "clean-glance",
   "metadata": {},
   "source": [
    "Pandas é construída pra ter boa performance.\n",
    "\n",
    "Em Python isso não é exatamente trivial.\n",
    "Então Pandas foi toda escrita em cima de uma biblioteca chamada numpy, que por sua vez tem muito código escrito em C.\n",
    "Geralmente é verdade que, se Python e rápido, então é C num pacotinho amigável de Python (#JuliaFTW)."
   ]
  },
  {
   "cell_type": "code",
   "execution_count": 8,
   "id": "colonial-notification",
   "metadata": {},
   "outputs": [],
   "source": [
    "import pandas"
   ]
  },
  {
   "cell_type": "code",
   "execution_count": 9,
   "id": "funny-slovenia",
   "metadata": {},
   "outputs": [],
   "source": [
    "from_var_list = pandas.Series(my_var_list)"
   ]
  },
  {
   "cell_type": "code",
   "execution_count": 10,
   "id": "athletic-texture",
   "metadata": {},
   "outputs": [
    {
     "data": {
      "text/plain": [
       "0               a\n",
       "1               1\n",
       "2    outra string\n",
       "3            6.28\n",
       "dtype: object"
      ]
     },
     "execution_count": 10,
     "metadata": {},
     "output_type": "execute_result"
    }
   ],
   "source": [
    "from_var_list"
   ]
  },
  {
   "cell_type": "markdown",
   "id": "documentary-banana",
   "metadata": {},
   "source": [
    "------------------------------------------\n",
    "Maneira direta de criar uma Series... usar seu método construtor.\n",
    "\n",
    "Obrigatoriamente precisa ser passado algum objeto python que pode armazenar valores estruturados.\n",
    "O termo técnico é **iterable** (basicamente alguma coisa que podemos botar num loop)."
   ]
  },
  {
   "cell_type": "code",
   "execution_count": 11,
   "id": "civilian-external",
   "metadata": {},
   "outputs": [
    {
     "data": {
      "text/plain": [
       "'outra string'"
      ]
     },
     "execution_count": 11,
     "metadata": {},
     "output_type": "execute_result"
    }
   ],
   "source": [
    "from_var_list[2]"
   ]
  },
  {
   "cell_type": "code",
   "execution_count": 12,
   "id": "approximate-elder",
   "metadata": {},
   "outputs": [
    {
     "data": {
      "text/plain": [
       "0               a\n",
       "1               1\n",
       "2    outra string\n",
       "3            6.28\n",
       "dtype: object"
      ]
     },
     "execution_count": 12,
     "metadata": {},
     "output_type": "execute_result"
    }
   ],
   "source": [
    "from_var_dict = pandas.Series(my_var_dict)\n",
    "\n",
    "from_var_dict"
   ]
  },
  {
   "cell_type": "markdown",
   "id": "known-domestic",
   "metadata": {},
   "source": [
    "--------------------------------------------\n",
    "Acesso aos dados, como em listas e dicionários, é feito por índices.\n",
    "\n",
    "Observe que o display das variáveis criadas mostra 3 informações:\n",
    " - índices\n",
    " - valores\n",
    " - dtype\n",
    "\n",
    "De notável, vemos principalmente que dtype é único para a Series inteira.\n",
    "Em ambos os casos até agora, esse *dtype* foi `object`, o que quer dizer uma variável python qualquer."
   ]
  },
  {
   "cell_type": "code",
   "execution_count": 13,
   "id": "conventional-leonard",
   "metadata": {},
   "outputs": [],
   "source": [
    "lst_1 = [1,2,3]\n",
    "lst_2 = [1,2,3.0]\n",
    "lst_3 = [1,2,'3']\n",
    "lst_char = ['a', 'b', 'c']\n",
    "\n",
    "ser_1 = pandas.Series(lst_1)\n",
    "ser_2 = pandas.Series(lst_2)\n",
    "ser_3 = pandas.Series(lst_3)\n",
    "ser_char = pandas.Series(lst_char)"
   ]
  },
  {
   "cell_type": "code",
   "execution_count": 14,
   "id": "informative-whale",
   "metadata": {},
   "outputs": [
    {
     "data": {
      "text/plain": [
       "0    1\n",
       "1    2\n",
       "2    3\n",
       "dtype: int64"
      ]
     },
     "execution_count": 14,
     "metadata": {},
     "output_type": "execute_result"
    }
   ],
   "source": [
    "ser_1"
   ]
  },
  {
   "cell_type": "code",
   "execution_count": 15,
   "id": "atomic-vocabulary",
   "metadata": {},
   "outputs": [
    {
     "data": {
      "text/plain": [
       "0    1.0\n",
       "1    2.0\n",
       "2    3.0\n",
       "dtype: float64"
      ]
     },
     "execution_count": 15,
     "metadata": {},
     "output_type": "execute_result"
    }
   ],
   "source": [
    "ser_2"
   ]
  },
  {
   "cell_type": "code",
   "execution_count": 16,
   "id": "exposed-french",
   "metadata": {},
   "outputs": [
    {
     "data": {
      "text/plain": [
       "0    1\n",
       "1    2\n",
       "2    3\n",
       "dtype: object"
      ]
     },
     "execution_count": 16,
     "metadata": {},
     "output_type": "execute_result"
    }
   ],
   "source": [
    "ser_3"
   ]
  },
  {
   "cell_type": "code",
   "execution_count": 17,
   "id": "limited-shield",
   "metadata": {},
   "outputs": [
    {
     "data": {
      "text/plain": [
       "0    a\n",
       "1    b\n",
       "2    c\n",
       "dtype: object"
      ]
     },
     "execution_count": 17,
     "metadata": {},
     "output_type": "execute_result"
    }
   ],
   "source": [
    "ser_char"
   ]
  },
  {
   "cell_type": "markdown",
   "id": "characteristic-injury",
   "metadata": {},
   "source": [
    "----------------------------------------------------------------\n",
    "Dos exemplos acima podemos ver que o pandas se esforça pra achar um tipo numérico comum para atribuir à Series toda.\n",
    "Falhando, cai no caso object.\n",
    "\n",
    "Tristemente, não há uma separação para string.\n",
    "Essa decisão foi tomada pois strings não tem ganho de performance na identificação do dtype, então não existe esforço em identificar esse caso.\n",
    "\n",
    "Porém, o cientista de dados, analista que usa a biblioteca gosta de saber se é tudo string, é uma informação útil.\n",
    "Existem planos para incluir essa diferenciação pra ajudar os seres por trás dos teclados.\n",
    "Portanto esse comportamenteo pode mudar em versões futuras da biblioteca."
   ]
  },
  {
   "cell_type": "code",
   "execution_count": 18,
   "id": "micro-julian",
   "metadata": {},
   "outputs": [],
   "source": [
    "ser_2_int = pandas.Series(lst_2, dtype=int)"
   ]
  },
  {
   "cell_type": "code",
   "execution_count": 19,
   "id": "according-climate",
   "metadata": {},
   "outputs": [
    {
     "data": {
      "text/plain": [
       "0    1\n",
       "1    2\n",
       "2    3\n",
       "dtype: int32"
      ]
     },
     "execution_count": 19,
     "metadata": {},
     "output_type": "execute_result"
    }
   ],
   "source": [
    "ser_2_int"
   ]
  },
  {
   "cell_type": "code",
   "execution_count": 20,
   "id": "advanced-filing",
   "metadata": {},
   "outputs": [
    {
     "data": {
      "text/plain": [
       "numpy.int32"
      ]
     },
     "execution_count": 20,
     "metadata": {},
     "output_type": "execute_result"
    }
   ],
   "source": [
    "type(ser_2_int[0])"
   ]
  },
  {
   "cell_type": "markdown",
   "id": "apparent-diversity",
   "metadata": {},
   "source": [
    "---------------------------------------------------\n",
    "Mas, pedindo com jeitinho, o `dtype` pode ser o que preferimos... dentro do limite do razoável, claro"
   ]
  },
  {
   "cell_type": "code",
   "execution_count": 21,
   "id": "irish-optimization",
   "metadata": {},
   "outputs": [
    {
     "data": {
      "text/plain": [
       "RangeIndex(start=0, stop=3, step=1)"
      ]
     },
     "execution_count": 21,
     "metadata": {},
     "output_type": "execute_result"
    }
   ],
   "source": [
    "ser_char.index"
   ]
  },
  {
   "cell_type": "code",
   "execution_count": 22,
   "id": "casual-precipitation",
   "metadata": {},
   "outputs": [
    {
     "data": {
      "text/plain": [
       "a    1\n",
       "b    2\n",
       "c    3\n",
       "Name: char_indexed, dtype: int64"
      ]
     },
     "execution_count": 22,
     "metadata": {},
     "output_type": "execute_result"
    }
   ],
   "source": [
    "ser_1_char = pandas.Series(lst_1, index=lst_char, name='char_indexed')\n",
    "\n",
    "ser_1_char"
   ]
  },
  {
   "cell_type": "code",
   "execution_count": 23,
   "id": "novel-setup",
   "metadata": {},
   "outputs": [
    {
     "data": {
      "text/plain": [
       "1"
      ]
     },
     "execution_count": 23,
     "metadata": {},
     "output_type": "execute_result"
    }
   ],
   "source": [
    "ser_1_char['a']"
   ]
  },
  {
   "cell_type": "code",
   "execution_count": 24,
   "id": "devoted-idaho",
   "metadata": {},
   "outputs": [
    {
     "data": {
      "text/plain": [
       ":-)    6.283185\n",
       ":-(    3.141592\n",
       "dtype: float64"
      ]
     },
     "execution_count": 24,
     "metadata": {},
     "output_type": "execute_result"
    }
   ],
   "source": [
    "datum = {':-)': 6.283185, ':-(': 3.141592}\n",
    "\n",
    "ser_str_keys = pandas.Series(datum)\n",
    "\n",
    "ser_str_keys"
   ]
  },
  {
   "cell_type": "code",
   "execution_count": 25,
   "id": "close-injection",
   "metadata": {},
   "outputs": [
    {
     "data": {
      "text/plain": [
       ":-)           6.283185\n",
       ":sad_face:         NaN\n",
       "dtype: float64"
      ]
     },
     "execution_count": 25,
     "metadata": {},
     "output_type": "execute_result"
    }
   ],
   "source": [
    "ser_str_keys = pandas.Series(datum, index=[':-)', ':sad_face:'])\n",
    "\n",
    "ser_str_keys"
   ]
  },
  {
   "cell_type": "markdown",
   "id": "waiting-program",
   "metadata": {},
   "source": [
    "---------------------------------------------------\n",
    "Também podemos passar pro método contrutor um outro iterable a ser usado como índice.\n",
    "\n",
    "No caso dos dados serem um dicionário, as chaves serão usadas como índice.\n",
    "Se além disso for passado algum valor pra index, temos o comportamento acima.\n",
    "Basicamente, o index que foi passado vai ser o índice da Series, se o dicionário contiver uma chave correspondente, usa o valor do dicionário, NaN caso contrário"
   ]
  },
  {
   "cell_type": "code",
   "execution_count": 26,
   "id": "controlling-arbitration",
   "metadata": {},
   "outputs": [
    {
     "data": {
      "text/plain": [
       "a    1\n",
       "a    2\n",
       "b    3\n",
       "Name: bad, dtype: object"
      ]
     },
     "execution_count": 26,
     "metadata": {},
     "output_type": "execute_result"
    }
   ],
   "source": [
    "bad_series = pandas.Series(data=lst_3, index=['a', 'a', 'b'], name='bad')\n",
    "\n",
    "bad_series"
   ]
  },
  {
   "cell_type": "code",
   "execution_count": 27,
   "id": "talented-journey",
   "metadata": {},
   "outputs": [
    {
     "data": {
      "text/plain": [
       "a    1\n",
       "a    2\n",
       "Name: bad, dtype: object"
      ]
     },
     "execution_count": 27,
     "metadata": {},
     "output_type": "execute_result"
    }
   ],
   "source": [
    "bad_series['a']"
   ]
  },
  {
   "cell_type": "code",
   "execution_count": 28,
   "id": "brown-while",
   "metadata": {},
   "outputs": [
    {
     "data": {
      "text/plain": [
       "numpy.int64"
      ]
     },
     "execution_count": 28,
     "metadata": {},
     "output_type": "execute_result"
    }
   ],
   "source": [
    "type(ser_1_char['a'])"
   ]
  },
  {
   "cell_type": "code",
   "execution_count": 29,
   "id": "spectacular-inquiry",
   "metadata": {},
   "outputs": [
    {
     "data": {
      "text/plain": [
       "pandas.core.series.Series"
      ]
     },
     "execution_count": 29,
     "metadata": {},
     "output_type": "execute_result"
    }
   ],
   "source": [
    "type(bad_series['a'])"
   ]
  },
  {
   "cell_type": "markdown",
   "id": "standard-jimmy",
   "metadata": {},
   "source": [
    "---------------------\n",
    "Diferente de dicionários, Series podem ter repetição de índice.\n",
    "\n",
    "Esse comportamento será importante para que existam DataFrames com múltiplos índices.\n",
    "De todo jeito, \"as is\", é possível indexar Series por algum tipo de classificação, e filtrar facilmente de acordo com essa classificação.\n",
    "Claro, melhor mesmo num caso desses é ter um DataFrame com 2 colunas e filtrar pela classificação, mas apressado come cru! Ainda estamos em Series!!\n",
    "\n",
    "Observe que no caso em que o índice não é único, o valor de retorno é uma Series.\n",
    "Acontece o mesmo com listas, se acessamos um único elemento através de um índice, recebemos um objeto do tipo que estiver naquele lugar, se acessamos múltiplos elementos por um slice, recebemos algo como outra lista"
   ]
  },
  {
   "cell_type": "code",
   "execution_count": 30,
   "id": "victorian-doctor",
   "metadata": {},
   "outputs": [
    {
     "data": {
      "text/plain": [
       "0    1\n",
       "1    2\n",
       "2    3\n",
       "dtype: int64"
      ]
     },
     "execution_count": 30,
     "metadata": {},
     "output_type": "execute_result"
    }
   ],
   "source": [
    "ser_1"
   ]
  },
  {
   "cell_type": "code",
   "execution_count": 31,
   "id": "novel-situation",
   "metadata": {},
   "outputs": [
    {
     "data": {
      "text/plain": [
       "0    1\n",
       "2    3\n",
       "dtype: int64"
      ]
     },
     "execution_count": 31,
     "metadata": {},
     "output_type": "execute_result"
    }
   ],
   "source": [
    "ser_1[ [True, False, True] ]"
   ]
  },
  {
   "cell_type": "markdown",
   "id": "automatic-estonia",
   "metadata": {},
   "source": [
    "--------------\n",
    "A característica mais confusa sobre acessos a Series...\n",
    "\n",
    "podemos usar uma lista de booleanos para especificar exatamente quais elementos queremos da Series.\n",
    "Lembrando que Series são ordenadas, então isso faz algum sentido."
   ]
  },
  {
   "cell_type": "code",
   "execution_count": 32,
   "id": "assisted-cradle",
   "metadata": {},
   "outputs": [
    {
     "data": {
      "text/plain": [
       "0    2\n",
       "1    4\n",
       "2    6\n",
       "dtype: int64"
      ]
     },
     "execution_count": 32,
     "metadata": {},
     "output_type": "execute_result"
    }
   ],
   "source": [
    "ser_1 + ser_2_int"
   ]
  },
  {
   "cell_type": "code",
   "execution_count": 33,
   "id": "muslim-overview",
   "metadata": {},
   "outputs": [
    {
     "data": {
      "text/plain": [
       "0    3\n",
       "1    6\n",
       "2    9\n",
       "dtype: int64"
      ]
     },
     "execution_count": 33,
     "metadata": {},
     "output_type": "execute_result"
    }
   ],
   "source": [
    "ser_1 + 2*ser_2_int"
   ]
  },
  {
   "cell_type": "code",
   "execution_count": 34,
   "id": "removed-waste",
   "metadata": {},
   "outputs": [
    {
     "data": {
      "text/plain": [
       "0    4.0\n",
       "1    5.0\n",
       "2    6.0\n",
       "dtype: float64"
      ]
     },
     "execution_count": 34,
     "metadata": {},
     "output_type": "execute_result"
    }
   ],
   "source": [
    "ser_1 + 3*ser_2_int / ser_2"
   ]
  },
  {
   "cell_type": "code",
   "execution_count": 35,
   "id": "precise-support",
   "metadata": {},
   "outputs": [
    {
     "data": {
      "text/plain": [
       "0    False\n",
       "1    False\n",
       "2     True\n",
       "dtype: bool"
      ]
     },
     "execution_count": 35,
     "metadata": {},
     "output_type": "execute_result"
    }
   ],
   "source": [
    "ser_1 != ser_3"
   ]
  },
  {
   "cell_type": "code",
   "execution_count": 36,
   "id": "meaningful-newman",
   "metadata": {},
   "outputs": [
    {
     "data": {
      "text/plain": [
       "0    a\n",
       "1    b\n",
       "dtype: object"
      ]
     },
     "execution_count": 36,
     "metadata": {},
     "output_type": "execute_result"
    }
   ],
   "source": [
    "ser_char[ ser_1 == ser_3 ]"
   ]
  },
  {
   "cell_type": "markdown",
   "id": "protecting-delivery",
   "metadata": {},
   "source": [
    "---------------\n",
    "Aritmética para Series!\n",
    "\n",
    "Tudo feito para facilitar transformações entre colunas.\n",
    "\n",
    "As operações booleanas acabam sendo usadas para fazer filtros.\n",
    "Além das exemplificadas aqui, temos: `>`, `<`, `&`, `|`"
   ]
  }
 ],
 "metadata": {
  "kernelspec": {
   "display_name": "Python 3",
   "language": "python",
   "name": "python3"
  },
  "language_info": {
   "codemirror_mode": {
    "name": "ipython",
    "version": 3
   },
   "file_extension": ".py",
   "mimetype": "text/x-python",
   "name": "python",
   "nbconvert_exporter": "python",
   "pygments_lexer": "ipython3",
   "version": "3.8.8"
  }
 },
 "nbformat": 4,
 "nbformat_minor": 5
}
